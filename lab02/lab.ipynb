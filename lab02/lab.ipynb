{
 "cells": [
  {
   "cell_type": "markdown",
   "metadata": {},
   "source": [
    "# Первая лабораторная работа по ML\n",
    "\n",
    "| Студент | Суханов Е.А. |\n",
    "|---------|--------|\n",
    "| Группа  | М8О-406Б-19      |"
   ]
  },
  {
   "cell_type": "markdown",
   "metadata": {},
   "source": [
    "Загрузим датасет"
   ]
  },
  {
   "cell_type": "code",
   "execution_count": 1,
   "metadata": {},
   "outputs": [
    {
     "data": {
      "text/html": [
       "<div>\n",
       "<style scoped>\n",
       "    .dataframe tbody tr th:only-of-type {\n",
       "        vertical-align: middle;\n",
       "    }\n",
       "\n",
       "    .dataframe tbody tr th {\n",
       "        vertical-align: top;\n",
       "    }\n",
       "\n",
       "    .dataframe thead th {\n",
       "        text-align: right;\n",
       "    }\n",
       "</style>\n",
       "<table border=\"1\" class=\"dataframe\">\n",
       "  <thead>\n",
       "    <tr style=\"text-align: right;\">\n",
       "      <th></th>\n",
       "      <th>AgeCategory</th>\n",
       "      <th>GenHealth</th>\n",
       "      <th>BMI</th>\n",
       "      <th>PhysicalHealth</th>\n",
       "      <th>MentalHealth</th>\n",
       "      <th>SleepTime</th>\n",
       "      <th>HeartDiseaseOrStroke</th>\n",
       "      <th>Smoking_No</th>\n",
       "      <th>Smoking_Yes</th>\n",
       "      <th>AlcoholDrinking_No</th>\n",
       "      <th>...</th>\n",
       "      <th>PhysicalActivity_No</th>\n",
       "      <th>PhysicalActivity_Yes</th>\n",
       "      <th>Asthma_No</th>\n",
       "      <th>Asthma_Yes</th>\n",
       "      <th>KidneyDisease_No</th>\n",
       "      <th>KidneyDisease_Yes</th>\n",
       "      <th>SkinCancer_No</th>\n",
       "      <th>SkinCancer_Yes</th>\n",
       "      <th>Diabetic_No</th>\n",
       "      <th>Diabetic_Yes</th>\n",
       "    </tr>\n",
       "  </thead>\n",
       "  <tbody>\n",
       "    <tr>\n",
       "      <th>0</th>\n",
       "      <td>8</td>\n",
       "      <td>1</td>\n",
       "      <td>16.60</td>\n",
       "      <td>3.0</td>\n",
       "      <td>30.0</td>\n",
       "      <td>5.0</td>\n",
       "      <td>0.0</td>\n",
       "      <td>0</td>\n",
       "      <td>1</td>\n",
       "      <td>1</td>\n",
       "      <td>...</td>\n",
       "      <td>0</td>\n",
       "      <td>1</td>\n",
       "      <td>0</td>\n",
       "      <td>1</td>\n",
       "      <td>1</td>\n",
       "      <td>0</td>\n",
       "      <td>0</td>\n",
       "      <td>1</td>\n",
       "      <td>0</td>\n",
       "      <td>1</td>\n",
       "    </tr>\n",
       "    <tr>\n",
       "      <th>1</th>\n",
       "      <td>13</td>\n",
       "      <td>1</td>\n",
       "      <td>20.34</td>\n",
       "      <td>0.0</td>\n",
       "      <td>0.0</td>\n",
       "      <td>7.0</td>\n",
       "      <td>1.0</td>\n",
       "      <td>1</td>\n",
       "      <td>0</td>\n",
       "      <td>1</td>\n",
       "      <td>...</td>\n",
       "      <td>0</td>\n",
       "      <td>1</td>\n",
       "      <td>1</td>\n",
       "      <td>0</td>\n",
       "      <td>1</td>\n",
       "      <td>0</td>\n",
       "      <td>1</td>\n",
       "      <td>0</td>\n",
       "      <td>1</td>\n",
       "      <td>0</td>\n",
       "    </tr>\n",
       "    <tr>\n",
       "      <th>2</th>\n",
       "      <td>10</td>\n",
       "      <td>-1</td>\n",
       "      <td>26.58</td>\n",
       "      <td>20.0</td>\n",
       "      <td>30.0</td>\n",
       "      <td>8.0</td>\n",
       "      <td>0.0</td>\n",
       "      <td>0</td>\n",
       "      <td>1</td>\n",
       "      <td>1</td>\n",
       "      <td>...</td>\n",
       "      <td>0</td>\n",
       "      <td>1</td>\n",
       "      <td>0</td>\n",
       "      <td>1</td>\n",
       "      <td>1</td>\n",
       "      <td>0</td>\n",
       "      <td>1</td>\n",
       "      <td>0</td>\n",
       "      <td>0</td>\n",
       "      <td>1</td>\n",
       "    </tr>\n",
       "    <tr>\n",
       "      <th>3</th>\n",
       "      <td>12</td>\n",
       "      <td>0</td>\n",
       "      <td>24.21</td>\n",
       "      <td>0.0</td>\n",
       "      <td>0.0</td>\n",
       "      <td>6.0</td>\n",
       "      <td>0.0</td>\n",
       "      <td>1</td>\n",
       "      <td>0</td>\n",
       "      <td>1</td>\n",
       "      <td>...</td>\n",
       "      <td>1</td>\n",
       "      <td>0</td>\n",
       "      <td>1</td>\n",
       "      <td>0</td>\n",
       "      <td>1</td>\n",
       "      <td>0</td>\n",
       "      <td>0</td>\n",
       "      <td>1</td>\n",
       "      <td>1</td>\n",
       "      <td>0</td>\n",
       "    </tr>\n",
       "    <tr>\n",
       "      <th>4</th>\n",
       "      <td>5</td>\n",
       "      <td>1</td>\n",
       "      <td>23.71</td>\n",
       "      <td>28.0</td>\n",
       "      <td>0.0</td>\n",
       "      <td>8.0</td>\n",
       "      <td>0.0</td>\n",
       "      <td>1</td>\n",
       "      <td>0</td>\n",
       "      <td>1</td>\n",
       "      <td>...</td>\n",
       "      <td>0</td>\n",
       "      <td>1</td>\n",
       "      <td>1</td>\n",
       "      <td>0</td>\n",
       "      <td>1</td>\n",
       "      <td>0</td>\n",
       "      <td>1</td>\n",
       "      <td>0</td>\n",
       "      <td>1</td>\n",
       "      <td>0</td>\n",
       "    </tr>\n",
       "  </tbody>\n",
       "</table>\n",
       "<p>5 rows × 25 columns</p>\n",
       "</div>"
      ],
      "text/plain": [
       "   AgeCategory  GenHealth    BMI  PhysicalHealth  MentalHealth  SleepTime  \\\n",
       "0            8          1  16.60             3.0          30.0        5.0   \n",
       "1           13          1  20.34             0.0           0.0        7.0   \n",
       "2           10         -1  26.58            20.0          30.0        8.0   \n",
       "3           12          0  24.21             0.0           0.0        6.0   \n",
       "4            5          1  23.71            28.0           0.0        8.0   \n",
       "\n",
       "   HeartDiseaseOrStroke  Smoking_No  Smoking_Yes  AlcoholDrinking_No  ...  \\\n",
       "0                   0.0           0            1                   1  ...   \n",
       "1                   1.0           1            0                   1  ...   \n",
       "2                   0.0           0            1                   1  ...   \n",
       "3                   0.0           1            0                   1  ...   \n",
       "4                   0.0           1            0                   1  ...   \n",
       "\n",
       "   PhysicalActivity_No  PhysicalActivity_Yes  Asthma_No  Asthma_Yes  \\\n",
       "0                    0                     1          0           1   \n",
       "1                    0                     1          1           0   \n",
       "2                    0                     1          0           1   \n",
       "3                    1                     0          1           0   \n",
       "4                    0                     1          1           0   \n",
       "\n",
       "   KidneyDisease_No  KidneyDisease_Yes  SkinCancer_No  SkinCancer_Yes  \\\n",
       "0                 1                  0              0               1   \n",
       "1                 1                  0              1               0   \n",
       "2                 1                  0              1               0   \n",
       "3                 1                  0              0               1   \n",
       "4                 1                  0              1               0   \n",
       "\n",
       "   Diabetic_No  Diabetic_Yes  \n",
       "0            0             1  \n",
       "1            1             0  \n",
       "2            0             1  \n",
       "3            1             0  \n",
       "4            1             0  \n",
       "\n",
       "[5 rows x 25 columns]"
      ]
     },
     "execution_count": 1,
     "metadata": {},
     "output_type": "execute_result"
    }
   ],
   "source": [
    "import pandas as pd\n",
    "import numpy as np\n",
    "\n",
    "ds = pd.read_csv(\"ds.csv\")\n",
    "ds.head()"
   ]
  },
  {
   "cell_type": "code",
   "execution_count": 2,
   "metadata": {},
   "outputs": [
    {
     "name": "stdout",
     "output_type": "stream",
     "text": [
      "(239846, 24) (79949, 24)\n"
     ]
    }
   ],
   "source": [
    "from sklearn.model_selection import train_test_split\n",
    "X = ds.drop(\"HeartDiseaseOrStroke\", axis=1).to_numpy()\n",
    "Y = ds[\"HeartDiseaseOrStroke\"].to_numpy()\n",
    "x_train, x_test, y_train, y_test = train_test_split(X, Y, test_size = 0.25, random_state=42)\n",
    "print(x_train.shape, x_test.shape)"
   ]
  },
  {
   "cell_type": "code",
   "execution_count": 3,
   "metadata": {},
   "outputs": [
    {
     "name": "stdout",
     "output_type": "stream",
     "text": [
      "(52332, 24) (52332,)\n"
     ]
    }
   ],
   "source": [
    "# Мой датасет имеет особенность: отношение \"yes\" к \"no\" в целевом свойстве очень мало.\n",
    "# Поэтому я решил написать \"балансер\", который балансирует это отношение.\n",
    "# (делает его равным factor)\n",
    "def balance(x,y, factor=0.5, shuffle=True):\n",
    "    x_true = x[y > 0.5]\n",
    "    y_true = y[y > 0.5]\n",
    "    x_false = x[y < 0.5]\n",
    "    y_false = y[y < 0.5]\n",
    "    m = len(x_false)\n",
    "    n = min(len(x_true), int(m*factor))\n",
    "    m = min(m, int(n/factor))\n",
    "    x_res = np.vstack([x_true[:n], x_false[:m]])\n",
    "    y_res = np.hstack([y_true[:n], y_false[:m]])\n",
    "    def unison_shuffled_copies(a, b):\n",
    "        assert len(a) == len(b)\n",
    "        p = np.random.permutation(len(a))\n",
    "        return a[p], b[p]\n",
    "    if shuffle:\n",
    "        x_res, y_res = unison_shuffled_copies(x_res, y_res)\n",
    "    return x_res, y_res\n",
    "\n",
    "x_train_balanced, y_train_balanced = balance(x_train, y_train, factor=1)\n",
    "print(x_train_balanced.shape, y_train_balanced.shape)\n",
    "# x_test_balanced, y_test_balanced = balance(x_test, y_test, factor=0.5)\n",
    "# print(x_test_balanced.shape, y_test_balanced.shape)"
   ]
  },
  {
   "cell_type": "code",
   "execution_count": 4,
   "metadata": {},
   "outputs": [],
   "source": [
    "import matplotlib.pyplot as plt\n",
    "from sklearn.metrics import confusion_matrix, precision_score, recall_score, ConfusionMatrixDisplay, roc_auc_score\n",
    "# Построим матрицу неточности\n",
    "def plot_confusion_matrix(y, pred, name):\n",
    "    cm = confusion_matrix(y, pred)\n",
    "    # cm = cm / cm.sum() # normolize\n",
    "    disp = ConfusionMatrixDisplay(confusion_matrix=cm, display_labels=[\"no\", \"yes\"])\n",
    "    fig, ax = plt.subplots(figsize=(10,10))\n",
    "    disp.plot(ax=ax,)\n",
    "    plt.show()\n",
    "\n",
    "def metrics(pred, y_test):\n",
    "    print(\"Accuracy:\", accuracy_score(y, pred))\n",
    "    print(\"Recall:\", recall_score(y, pred))\n",
    "    print(\"Precision:\", precision_score(y, pred))\n",
    "    print(\"Roc-auc:\", roc_auc_score(y, pred))\n",
    "\n",
    "# Создаим фунцию для подсчета и вывода различных метрик и пр.\n",
    "def info(y, pred, sk_pred):\n",
    "    print(\"Accuracy:\", accuracy_score(y, pred))\n",
    "    print(\"Accuracy sklearn model:\", accuracy_score(y, sk_pred))\n",
    "    print(\"Recall:\", recall_score(y, pred))\n",
    "    print(\"Recall sklearn model:\", recall_score(y, sk_pred))\n",
    "    print(\"Precision:\", precision_score(y, pred))\n",
    "    print(\"Precision sklearn model:\", precision_score(y, sk_pred))\n",
    "    print(\"Roc-auc:\", roc_auc_score(y, pred))\n",
    "    print(\"Roc-auc sklearn model:\", roc_auc_score(y, sk_pred))\n",
    "    plot_confusion_matrix(y, pred, \"My model\")\n",
    "    plot_confusion_matrix(y, sk_pred, \"sklearnModel\")"
   ]
  },
  {
   "cell_type": "code",
   "execution_count": 5,
   "metadata": {},
   "outputs": [],
   "source": [
    "from sklearn.preprocessing import StandardScaler\n",
    "from sklearn.pipeline import Pipeline\n",
    "scaler = StandardScaler()"
   ]
  },
  {
   "cell_type": "markdown",
   "metadata": {},
   "source": [
    "### Linear Regression"
   ]
  },
  {
   "cell_type": "code",
   "execution_count": 8,
   "metadata": {},
   "outputs": [],
   "source": [
    "from sklearn.base import BaseEstimator, ClassifierMixin\n",
    "from sklearn.metrics import accuracy_score\n",
    "from sklearn import linear_model"
   ]
  },
  {
   "cell_type": "code",
   "execution_count": 174,
   "metadata": {},
   "outputs": [],
   "source": [
    "class LinearRegression(BaseEstimator, ClassifierMixin):\n",
    "    def __init__(self):\n",
    "        pass\n",
    "\n",
    "    def fit(self, X, y):\n",
    "        self.w = np.linalg.inv(X.T @ X) @ X.T @ y\n",
    "        return self\n",
    "        \n",
    "    def predict(self, X):\n",
    "        pred = X @ self.w\n",
    "        return pred\n",
    "    \n",
    "    def get_weights(self):\n",
    "        return self.w"
   ]
  },
  {
   "cell_type": "code",
   "execution_count": 186,
   "metadata": {},
   "outputs": [
    {
     "name": "stdout",
     "output_type": "stream",
     "text": [
      "-10.0 12.0\n"
     ]
    }
   ],
   "source": [
    "model = Pipeline([(\"Scaler\", scaler), (\"Linear\", LinearRegression())])\n",
    "model.fit(x_train, y_train)\n",
    "pred = model.predict(x_test)\n",
    "print(min(pred), max(pred))\n",
    "my_pred = np.where(pred > np.mean(pred), 1.0, 0.0)"
   ]
  },
  {
   "cell_type": "code",
   "execution_count": 187,
   "metadata": {},
   "outputs": [
    {
     "name": "stdout",
     "output_type": "stream",
     "text": [
      "-0.16348842705689431 0.6911258307556056\n"
     ]
    }
   ],
   "source": [
    "model = Pipeline([(\"Scaler\", scaler), (\"Linear\", linear_model.LinearRegression())])\n",
    "model.fit(x_train, y_train)\n",
    "pred = model.predict(x_test)\n",
    "print(min(pred), max(pred))\n",
    "sk_pred = np.where(pred > np.mean(pred), 1.0, 0.0)"
   ]
  },
  {
   "cell_type": "code",
   "execution_count": 188,
   "metadata": {},
   "outputs": [
    {
     "name": "stdout",
     "output_type": "stream",
     "text": [
      "Accuracy: 0.518267895783562\n",
      "Accuracy sklearn model: 0.6473877096649113\n",
      "Recall: 0.32620681894902664\n",
      "Recall sklearn model: 0.8651963542252729\n",
      "Precision: 0.0818348623853211\n",
      "Precision sklearn model: 0.22170001730004035\n",
      "Roc-auc: 0.4342469179600611\n",
      "Roc-auc sklearn model: 0.7426724784269816\n"
     ]
    },
    {
     "data": {
      "image/png": "[encoded data removed]",
      "text/plain": [
       "<Figure size 720x720 with 2 Axes>"
      ]
     },
     "metadata": {
      "needs_background": "light"
     },
     "output_type": "display_data"
    },
    {
     "data": {
      "image/png": "[encoded data removed]",
      "text/plain": [
       "<Figure size 720x720 with 2 Axes>"
      ]
     },
     "metadata": {
      "needs_background": "light"
     },
     "output_type": "display_data"
    }
   ],
   "source": [
    "info(y_test, my_pred, sk_pred)"
   ]
  },
  {
   "cell_type": "markdown",
   "metadata": {},
   "source": [
    "Линейная регрессия плохо подходит для классификации. Так как результат предсказания модели нужно пропустить через функцию, которая будет давать окончательный ответ.\n",
    "\n",
    "Несмотря на низкую точность, можно заметить, что модель имеет высокий recall. Это означает, что когда человек действительно болен ССЗ (сердечно-сосудистым заболеванием), то модель это с высокой вероятностью обнаруживает.\n",
    "\n",
    "Однако у моделей много ложных срабатываний, о чем нам говорит precision.\n",
    "\n",
    "Тем не менее, в нашей задаче важно иметь высокий recall.\n",
    "\n",
    "Также я заметил что данная модель чувствительна к нормированию данных. "
   ]
  },
  {
   "cell_type": "markdown",
   "metadata": {},
   "source": [
    "\n",
    "### Logistic Regression"
   ]
  },
  {
   "cell_type": "code",
   "execution_count": 99,
   "metadata": {},
   "outputs": [],
   "source": [
    "class LogisticRegression(BaseEstimator, ClassifierMixin):\n",
    "    def __init__(self, lr = 0.05, max_iters = 100):\n",
    "        self.lr = lr\n",
    "        self.max_iters = max_iters\n",
    "\n",
    "    def fit(self, X, Y):\n",
    "        self.m, self.n = X.shape\n",
    "        self.w = np.zeros(self.n)\n",
    "        for i in range(self.max_iters):\n",
    "            self.update(X, Y)\n",
    "        return self\n",
    "\n",
    "    def get_params(self, deep = True):\n",
    "        return {\"lr\": self.lr, \"max_iters\" : self.max_iters}\n",
    "\n",
    "    def set_params(self, **parameters):\n",
    "        for parameter, value in parameters.items():\n",
    "            setattr(self, parameter, value)\n",
    "        return self\n",
    "\n",
    "    def update(self, X, Y):\n",
    "        z = X.dot(self.w)\n",
    "        a = 1 / (1 + np.exp(-z))\n",
    "        grad = (a - Y.T)\n",
    "        grad = np.reshape(grad, self.m)\n",
    "        dW = np.dot(X.T, grad) / self.m\n",
    "        db = np.sum(grad) / self.m\n",
    "        self.w = self.w - self.lr * dW\n",
    "\n",
    "        return self\n",
    "\n",
    "    def predict(self, X) :\n",
    "        z = X.dot(self.w)\n",
    "        pred = 1 / ( 1 + np.exp(-z))\n",
    "        return np.where(pred > 0.5, 1.0, 0.0)"
   ]
  },
  {
   "cell_type": "code",
   "execution_count": 205,
   "metadata": {},
   "outputs": [
    {
     "name": "stdout",
     "output_type": "stream",
     "text": [
      "0.0 1.0\n",
      "0.7583334375664487\n"
     ]
    }
   ],
   "source": [
    "model = Pipeline([(\"Scaler\", scaler),(\"LogReg\", LogisticRegression(max_iters=100))])\n",
    "model.fit(x_train_balanced, y_train_balanced)\n",
    "my_pred = model.predict(x_test)\n",
    "print(min(my_pred), max(my_pred))\n",
    "print(accuracy_score(y_test, my_pred))"
   ]
  },
  {
   "cell_type": "code",
   "execution_count": 206,
   "metadata": {},
   "outputs": [
    {
     "name": "stdout",
     "output_type": "stream",
     "text": [
      "0.0 1.0\n",
      "0.7388585223079713\n"
     ]
    }
   ],
   "source": [
    "model = Pipeline([(\"Scaler\", scaler),(\"LogReg\", linear_model.LogisticRegression(max_iter=1000))])\n",
    "model.fit(x_train_balanced, y_train_balanced)\n",
    "sk_pred = model.predict(x_test)\n",
    "print(min(sk_pred), max(sk_pred))\n",
    "print(accuracy_score(y_test, sk_pred))"
   ]
  },
  {
   "cell_type": "code",
   "execution_count": 207,
   "metadata": {},
   "outputs": [
    {
     "name": "stdout",
     "output_type": "stream",
     "text": [
      "Accuracy: 0.7583334375664487\n",
      "Accuracy sklearn model: 0.7388585223079713\n",
      "Recall: 0.7251040846179814\n",
      "Recall sklearn model: 0.7730392708450545\n",
      "Precision: 0.27630563416516596\n",
      "Precision sklearn model: 0.266993121137927\n",
      "Roc-auc: 0.7437965893242731\n",
      "Roc-auc sklearn model: 0.7538115776701421\n"
     ]
    },
    {
     "data": {
      "image/png": "[encoded data removed]",
      "text/plain": [
       "<Figure size 720x720 with 2 Axes>"
      ]
     },
     "metadata": {
      "needs_background": "light"
     },
     "output_type": "display_data"
    },
    {
     "data": {
      "image/png": "[encoded data removed]",
      "text/plain": [
       "<Figure size 720x720 with 2 Axes>"
      ]
     },
     "metadata": {
      "needs_background": "light"
     },
     "output_type": "display_data"
    }
   ],
   "source": [
    "info(y_test, my_pred, sk_pred)"
   ]
  },
  {
   "cell_type": "markdown",
   "metadata": {},
   "source": [
    "Логистическая регрессия больше подходит для классификации, так как она выдает значения в пределах четких границ, которые просто интерпретировать.\n",
    "\n",
    "У модели более хороший recall и precision.\n",
    "Тажке я заметил, что логистическая регрессия чувствительна к нормированию данных и балансу классов."
   ]
  },
  {
   "cell_type": "markdown",
   "metadata": {},
   "source": [
    "\n",
    "### SVM"
   ]
  },
  {
   "cell_type": "code",
   "execution_count": 103,
   "metadata": {},
   "outputs": [],
   "source": [
    "class SVM(ClassifierMixin, BaseEstimator):\n",
    "\n",
    "    def __init__(self, lr=0.001, alpha=0.01, n_iters=1000):\n",
    "        self.lr = lr\n",
    "        self.alpha = alpha\n",
    "        self.n_iters = n_iters\n",
    "        self.w = None\n",
    "        self.b = None\n",
    "\n",
    "\n",
    "    def get_params(self, deep = True):\n",
    "        return {\"lr\": self.lr, \"n_iters\" : self.n_iters, \"alpha\": self.alpha}\n",
    "\n",
    "    def set_params(self, **parameters):\n",
    "        for parameter, value in parameters.items():\n",
    "            setattr(self, parameter, value)\n",
    "        return self\n",
    "\n",
    "    def fit(self, X, Y):\n",
    "        n, m = X.shape\n",
    "        \n",
    "        y_ = np.where(Y < 0.5, -1, 1)\n",
    "        \n",
    "        self.w = np.zeros(m)\n",
    "        self.b = 0\n",
    "\n",
    "        for _ in range(self.n_iters):\n",
    "            for idx, x_i in enumerate(X):\n",
    "                condition = y_[idx] * (np.dot(x_i, self.w) - self.b) >= 1\n",
    "                if condition:\n",
    "                    self.w -= self.lr * (2 * self.alpha * self.w)\n",
    "                else:\n",
    "                    self.w -= self.lr * (2 * self.alpha * self.w - np.dot(x_i, y_[idx]))\n",
    "                    self.b -= self.lr * y_[idx]\n",
    "\n",
    "\n",
    "    def predict(self, X):\n",
    "        approx = np.dot(X, self.w) - self.b\n",
    "        return (np.sign(approx) + 1) / 2"
   ]
  },
  {
   "cell_type": "code",
   "execution_count": 148,
   "metadata": {},
   "outputs": [
    {
     "name": "stdout",
     "output_type": "stream",
     "text": [
      "0.7755319015872619\n"
     ]
    }
   ],
   "source": [
    "model = Pipeline([(\"Scaler\", scaler), (\"SVM\", SVM(n_iters=10))])\n",
    "model.fit(x_train_balanced, y_train_balanced)\n",
    "pred = model.predict(x_test)\n",
    "print(accuracy_score(y_test, my_pred))"
   ]
  },
  {
   "cell_type": "code",
   "execution_count": 113,
   "metadata": {},
   "outputs": [
    {
     "name": "stderr",
     "output_type": "stream",
     "text": [
      "d:\\python\\lib\\site-packages\\sklearn\\svm\\_base.py:301: ConvergenceWarning: Solver terminated early (max_iter=1000).  Consider pre-processing your data with StandardScaler or MinMaxScaler.\n",
      "  warnings.warn(\n"
     ]
    },
    {
     "name": "stdout",
     "output_type": "stream",
     "text": [
      "0.0 1.0\n",
      "0.5831342480831531\n"
     ]
    }
   ],
   "source": [
    "from sklearn import svm\n",
    "model = Pipeline([(\"Scaler\", scaler), (\"SVM\", svm.SVC(max_iter=1000, kernel=\"linear\"))])\n",
    "model.fit(x_train_balanced, y_train_balanced)\n",
    "pred = model.predict(x_test)\n",
    "print(min(pred), max(pred))\n",
    "sk_pred = np.where(pred > 0.5, 1.0, 0.0)\n",
    "print(accuracy_score(y_test, sk_pred))"
   ]
  },
  {
   "cell_type": "code",
   "execution_count": 114,
   "metadata": {},
   "outputs": [
    {
     "name": "stdout",
     "output_type": "stream",
     "text": [
      "Accuracy: 0.6727788965465484\n",
      "Accuracy sklearn model: 0.5831342480831531\n",
      "Recall: 0.8272757961066727\n",
      "Recall sklearn model: 0.6544390683020141\n",
      "Precision: 0.22990806179248233\n",
      "Precision sklearn model: 0.1612286197432983\n",
      "Roc-auc: 0.7403666701115391\n",
      "Roc-auc sklearn model: 0.614327974667739\n"
     ]
    },
    {
     "data": {
      "image/png": "[encoded data removed]",
      "text/plain": [
       "<Figure size 720x720 with 2 Axes>"
      ]
     },
     "metadata": {
      "needs_background": "light"
     },
     "output_type": "display_data"
    },
    {
     "data": {
      "image/png": "[encoded data removed]",
      "text/plain": [
       "<Figure size 720x720 with 2 Axes>"
      ]
     },
     "metadata": {
      "needs_background": "light"
     },
     "output_type": "display_data"
    }
   ],
   "source": [
    "info(y_test, my_pred, sk_pred)"
   ]
  },
  {
   "cell_type": "markdown",
   "metadata": {},
   "source": [
    "SVN имеет хороший recall, но и также высокий precision.\n",
    "\n",
    "Модель чувствительна к нормированию и балансу классов."
   ]
  },
  {
   "cell_type": "markdown",
   "metadata": {},
   "source": [
    "### KNN"
   ]
  },
  {
   "cell_type": "code",
   "execution_count": 9,
   "metadata": {},
   "outputs": [],
   "source": [
    "from sklearn.metrics import euclidean_distances\n",
    "class KNN(ClassifierMixin, BaseEstimator):\n",
    "    def __init__(self, nb):\n",
    "        self.nb = nb\n",
    "\n",
    "    def fit(self, X, Y):\n",
    "        self.X_ = X\n",
    "        self.y_ = Y\n",
    "        self.classes = np.unique(Y)\n",
    "    \n",
    "    def get_params(self, deep = True):\n",
    "        return {\"nb\": self.nb}\n",
    "\n",
    "    def set_params(self, **parameters):\n",
    "        for parameter, value in parameters.items():\n",
    "            setattr(self, parameter, value)\n",
    "        return self\n",
    "    \n",
    "    def predict(self, X):\n",
    "        y = np.ndarray((X.shape[0],))\n",
    "        for i, elem in enumerate(X):\n",
    "            distances = euclidean_distances([elem], self.X_)[0]\n",
    "            neighbors = np.argpartition(distances, kth = self.nb - 1)\n",
    "            k_neighbors = neighbors[:self.nb]\n",
    "            labels, cnts = np.unique(self.y_[k_neighbors], return_counts = True)\n",
    "            y[i] = labels[cnts.argmax()]\n",
    "        return y\n"
   ]
  },
  {
   "cell_type": "code",
   "execution_count": 10,
   "metadata": {},
   "outputs": [
    {
     "name": "stdout",
     "output_type": "stream",
     "text": [
      "0.710552977523171\n"
     ]
    }
   ],
   "source": [
    "model = KNN(nb=5)\n",
    "model.fit(x_train_balanced, y_train_balanced)\n",
    "my_pred = model.predict(x_test)\n",
    "print(accuracy_score(y_test, my_pred))"
   ]
  },
  {
   "cell_type": "code",
   "execution_count": 11,
   "metadata": {},
   "outputs": [
    {
     "name": "stdout",
     "output_type": "stream",
     "text": [
      "0.7101527223605049\n"
     ]
    }
   ],
   "source": [
    "from sklearn.neighbors import KNeighborsClassifier\n",
    "model = KNeighborsClassifier(n_neighbors=5)\n",
    "model.fit(x_train_balanced, y_train_balanced)\n",
    "sk_pred = model.predict(x_test)\n",
    "print(accuracy_score(y_test, sk_pred))"
   ]
  },
  {
   "cell_type": "code",
   "execution_count": 12,
   "metadata": {},
   "outputs": [
    {
     "name": "stdout",
     "output_type": "stream",
     "text": [
      "Accuracy: 0.710552977523171\n",
      "Accuracy sklearn model: 0.7101527223605049\n",
      "Recall: 0.7179025542927873\n",
      "Recall sklearn model: 0.7170023630021379\n",
      "Precision: 0.23617383578885023\n",
      "Precision sklearn model: 0.23573806881243065\n",
      "Roc-auc: 0.7137681975820696\n",
      "Roc-auc sklearn model: 0.713149235313233\n"
     ]
    },
    {
     "data": {
      "image/png": "[encoded data removed]",
      "text/plain": [
       "<Figure size 720x720 with 2 Axes>"
      ]
     },
     "metadata": {
      "needs_background": "light"
     },
     "output_type": "display_data"
    },
    {
     "data": {
      "image/png": "[encoded data removed]",
      "text/plain": [
       "<Figure size 720x720 with 2 Axes>"
      ]
     },
     "metadata": {
      "needs_background": "light"
     },
     "output_type": "display_data"
    }
   ],
   "source": [
    "info(y_test, my_pred, sk_pred)"
   ]
  },
  {
   "cell_type": "markdown",
   "metadata": {},
   "source": [
    "Модель не очень чувстительна к нормировнию данных.\n",
    "Показала более лучшие метрики на сбалансированных данных."
   ]
  },
  {
   "cell_type": "markdown",
   "metadata": {},
   "source": [
    "### Naive Bayes"
   ]
  },
  {
   "cell_type": "code",
   "execution_count": 133,
   "metadata": {},
   "outputs": [],
   "source": [
    "import math\n",
    "class NaiveBayes(ClassifierMixin, BaseEstimator):\n",
    "    def __init__(self):\n",
    "       pass\n",
    "\n",
    "    def fit(self, X, y):\n",
    "        self.X = X\n",
    "        self.y = y\n",
    "        labels, counts = np.unique(self.y, return_counts = True)\n",
    "        self.labels = labels\n",
    "        self.freq = np.array([i / self.y.shape[0] for i in counts])\n",
    "        self.means = np.array([self.X[self.y == i].mean(axis = 0) for i in labels])\n",
    "        self.stds = np.array([self.X[self.y == i].std(axis = 0) for i in labels])\n",
    "        return self\n",
    "\n",
    "    def gaussian(self, mu, sigma, x0):\n",
    "        return np.exp(-(x0 - mu) ** 2 / (2 * sigma)) / np.sqrt(2.0 * math.pi * sigma)\n",
    "\n",
    "    def predict(self, X):        \n",
    "        res = np.zeros(X.shape[0])\n",
    "        for i, x_i  in enumerate(X):\n",
    "            freq = np.array(self.freq)\n",
    "            for j, label_j in enumerate(self.labels):\n",
    "                p_x_cond_y = np.array([self.gaussian(self.means[j][k], self.stds[j][k], x_i[k]) for k in range(X.shape[1])])\n",
    "                freq[j] *= np.prod(p_x_cond_y)\n",
    "            res[i] = np.argmax(freq)\n",
    "        return res"
   ]
  },
  {
   "cell_type": "code",
   "execution_count": 150,
   "metadata": {},
   "outputs": [
    {
     "name": "stdout",
     "output_type": "stream",
     "text": [
      "0.7755319015872619\n"
     ]
    }
   ],
   "source": [
    "model = Pipeline([(\"Scaler\", scaler), (\"NaiveBayes\", NaiveBayes())])\n",
    "model.fit(x_train_balanced, y_train_balanced)\n",
    "my_pred = model.predict(x_test)\n",
    "print(accuracy_score(y_test, my_pred))"
   ]
  },
  {
   "cell_type": "code",
   "execution_count": 151,
   "metadata": {},
   "outputs": [
    {
     "name": "stdout",
     "output_type": "stream",
     "text": [
      "Accuracy: 0.7667387959824388\n"
     ]
    }
   ],
   "source": [
    "from sklearn.naive_bayes import GaussianNB\n",
    "model = Pipeline([(\"Scaler\", scaler), (\"NaiveBayes\", GaussianNB())])\n",
    "model.fit(x_train_balanced, y_train_balanced)\n",
    "sk_pred = model.predict(x_test)\n",
    "print(\"Accuracy:\", accuracy_score(y_test, sk_pred))"
   ]
  },
  {
   "cell_type": "code",
   "execution_count": 152,
   "metadata": {},
   "outputs": [
    {
     "name": "stdout",
     "output_type": "stream",
     "text": [
      "Accuracy: 0.7755319015872619\n",
      "Accuracy sklearn model: 0.7667387959824388\n",
      "Recall: 0.6112298863508495\n",
      "Recall sklearn model: 0.6148306515134466\n",
      "Precision: 0.2726497013501983\n",
      "Precision sklearn model: 0.2640889318511358\n",
      "Roc-auc: 0.7036546831208245\n",
      "Roc-auc sklearn model: 0.7002835253570724\n"
     ]
    },
    {
     "data": {
      "image/png": "[encoded data removed]",
      "text/plain": [
       "<Figure size 720x720 with 2 Axes>"
      ]
     },
     "metadata": {
      "needs_background": "light"
     },
     "output_type": "display_data"
    },
    {
     "data": {
      "image/png": "[encoded data removed]",
      "text/plain": [
       "<Figure size 720x720 with 2 Axes>"
      ]
     },
     "metadata": {
      "needs_background": "light"
     },
     "output_type": "display_data"
    }
   ],
   "source": [
    "info(y_test, my_pred, sk_pred)"
   ]
  },
  {
   "cell_type": "markdown",
   "metadata": {},
   "source": [
    "Naive Bayes имеет невысокий recall.\n",
    "Показала более лучшие результаты на нормированных и сбалансированных данных."
   ]
  },
  {
   "cell_type": "markdown",
   "metadata": {},
   "source": [
    "## Подбор параметров"
   ]
  },
  {
   "cell_type": "code",
   "execution_count": 17,
   "metadata": {},
   "outputs": [],
   "source": [
    "from sklearn.model_selection import GridSearchCV\n",
    "import pickle"
   ]
  },
  {
   "cell_type": "markdown",
   "metadata": {},
   "source": [
    "### Linear Regression"
   ]
  },
  {
   "cell_type": "code",
   "execution_count": 18,
   "metadata": {},
   "outputs": [
    {
     "name": "stdout",
     "output_type": "stream",
     "text": [
      "Лучшие гиперпараметры модели: {'Linear__fit_intercept': True}\n",
      "Лучший счёт модели: 0.15082723373344326\n"
     ]
    }
   ],
   "source": [
    "model = GridSearchCV(Pipeline([(\"Scaler\", scaler), (\"Linear\", linear_model.LinearRegression())]),\n",
    "                   {\"Linear__fit_intercept\" : [True, False]})\n",
    "model.fit(x_train, y_train)\n",
    "my_pred = model.best_estimator_.predict(x_test)\n",
    "my_pred = np.where(my_pred > np.mean(my_pred), 1.0, 0.0)\n",
    "print(\"Лучшие гиперпараметры модели:\", model.best_params_)\n",
    "print(\"Лучший счёт модели:\", model.best_score_)"
   ]
  },
  {
   "cell_type": "code",
   "execution_count": 19,
   "metadata": {},
   "outputs": [],
   "source": [
    "with open('LinReg.pickle', 'wb') as f:\n",
    "    pickle.dump(model, f)"
   ]
  },
  {
   "cell_type": "code",
   "execution_count": 20,
   "metadata": {},
   "outputs": [
    {
     "name": "stdout",
     "output_type": "stream",
     "text": [
      "Accuracy: 0.6473877096649113\n",
      "Recall: 0.22170001730004035\n",
      "Precision: 0.8651963542252729\n",
      "Roc-auc: 0.5976174109519178\n"
     ]
    },
    {
     "data": {
      "image/png": "[encoded data removed]",
      "text/plain": [
       "<Figure size 720x720 with 2 Axes>"
      ]
     },
     "metadata": {
      "needs_background": "light"
     },
     "output_type": "display_data"
    }
   ],
   "source": [
    "metrics(my_pred, y_test)\n",
    "plot_confusion_matrix(y_test, my_pred, \"lin reg\")"
   ]
  },
  {
   "cell_type": "markdown",
   "metadata": {},
   "source": [
    "### Logistic Regression"
   ]
  },
  {
   "cell_type": "code",
   "execution_count": 208,
   "metadata": {},
   "outputs": [
    {
     "name": "stdout",
     "output_type": "stream",
     "text": [
      "Лучшие гиперпараметры модели: {'LogReg__lr': 0.05, 'LogReg__max_iters': 2000}\n",
      "Лучший счёт модели: 0.7572612210605539\n"
     ]
    }
   ],
   "source": [
    "model = GridSearchCV(Pipeline([(\"Scaler\", scaler), (\"LogReg\", LogisticRegression())]),\n",
    "                   {\"LogReg__lr\" : [0.05, 0.01, 0.005],\n",
    "                    \"LogReg__max_iters\" : [100, 200, 500, 2000]})\n",
    "model.fit(x_train_balanced, y_train_balanced)\n",
    "my_pred = model.best_estimator_.predict(x_test)\n",
    "print(\"Лучшие гиперпараметры модели:\", model.best_params_)\n",
    "print(\"Лучший счёт модели:\", model.best_score_)"
   ]
  },
  {
   "cell_type": "code",
   "execution_count": 209,
   "metadata": {},
   "outputs": [],
   "source": [
    "with open('LogReg.pickle', 'wb') as f:\n",
    "    pickle.dump(model, f)"
   ]
  },
  {
   "cell_type": "code",
   "execution_count": 210,
   "metadata": {},
   "outputs": [
    {
     "name": "stdout",
     "output_type": "stream",
     "text": [
      "Accuracy: 0.7347433989168095\n",
      "Recall: 0.2647418270699664\n",
      "Precision: 0.7800157533475863\n",
      "Roc-auc: 0.614189940783193\n"
     ]
    },
    {
     "data": {
      "image/png": "[encoded data removed]",
      "text/plain": [
       "<Figure size 720x720 with 2 Axes>"
      ]
     },
     "metadata": {
      "needs_background": "light"
     },
     "output_type": "display_data"
    }
   ],
   "source": [
    "metrics(my_pred, y_test)\n",
    "plot_confusion_matrix(y_test, my_pred, \"log reg\")"
   ]
  },
  {
   "cell_type": "markdown",
   "metadata": {},
   "source": [
    "### SVM"
   ]
  },
  {
   "cell_type": "code",
   "execution_count": 211,
   "metadata": {},
   "outputs": [
    {
     "name": "stdout",
     "output_type": "stream",
     "text": [
      "Лучшие гиперпараметры модели: {'SVM__alpha': 0.01, 'SVM__lr': 0.001, 'SVM__n_iters': 20}\n",
      "Лучший счёт модели: 0.7545669371079547\n"
     ]
    }
   ],
   "source": [
    "model = GridSearchCV(Pipeline([(\"Scaler\", scaler), (\"SVM\", SVM())]),\n",
    "                   {\"SVM__n_iters\" : [20],\n",
    "                    \"SVM__lr\" : [0.01, 0.001],\n",
    "                    \"SVM__alpha\" : [0.01, 0.005]})\n",
    "model.fit(x_train_balanced, y_train_balanced)\n",
    "my_pred = model.best_estimator_.predict(x_test)\n",
    "print(\"Лучшие гиперпараметры модели:\", model.best_params_)\n",
    "print(\"Лучший счёт модели:\", model.best_score_)"
   ]
  },
  {
   "cell_type": "code",
   "execution_count": 212,
   "metadata": {},
   "outputs": [],
   "source": [
    "with open('SVM.pickle', 'wb') as f:\n",
    "    pickle.dump(model, f)"
   ]
  },
  {
   "cell_type": "code",
   "execution_count": 213,
   "metadata": {},
   "outputs": [
    {
     "name": "stdout",
     "output_type": "stream",
     "text": [
      "Accuracy: 0.7122290460168358\n",
      "Recall: 0.2518104478661323\n",
      "Precision: 0.8060087768650839\n",
      "Roc-auc: 0.6091683348198106\n"
     ]
    },
    {
     "data": {
      "image/png": "[encoded data removed]",
      "text/plain": [
       "<Figure size 720x720 with 2 Axes>"
      ]
     },
     "metadata": {
      "needs_background": "light"
     },
     "output_type": "display_data"
    }
   ],
   "source": [
    "metrics(my_pred, y_test)\n",
    "plot_confusion_matrix(y_test, my_pred, \"svm\")"
   ]
  },
  {
   "cell_type": "markdown",
   "metadata": {},
   "source": [
    "### KNN"
   ]
  },
  {
   "cell_type": "markdown",
   "metadata": {},
   "source": [
    "Моя реализация KNN работает довольно долго, поэтому я использую библиотечную реализацию"
   ]
  },
  {
   "cell_type": "code",
   "execution_count": 221,
   "metadata": {},
   "outputs": [
    {
     "name": "stdout",
     "output_type": "stream",
     "text": [
      "Лучшие гиперпараметры модели: {'KNN__metric': 'euclidean', 'KNN__n_neighbors': 13}\n",
      "Лучший счёт модели: 0.7346556331455557\n"
     ]
    }
   ],
   "source": [
    "model = GridSearchCV(Pipeline([(\"KNN\", KNeighborsClassifier())]),\n",
    "                   {\"KNN__n_neighbors\" : [13, 9, 7, 5],\n",
    "                    \"KNN__metric\": [\"euclidean\",\"minkowski\"]})\n",
    "model.fit(x_train_balanced, y_train_balanced)\n",
    "my_pred = model.best_estimator_.predict(x_test)\n",
    "print(\"Лучшие гиперпараметры модели:\", model.best_params_)\n",
    "print(\"Лучший счёт модели:\", model.best_score_)"
   ]
  },
  {
   "cell_type": "code",
   "execution_count": 222,
   "metadata": {},
   "outputs": [],
   "source": [
    "with open('KNN.pickle', 'wb') as f:\n",
    "    pickle.dump(model, f)"
   ]
  },
  {
   "cell_type": "code",
   "execution_count": 223,
   "metadata": {},
   "outputs": [
    {
     "name": "stdout",
     "output_type": "stream",
     "text": [
      "Accuracy: 0.7184830329334951\n",
      "Recall: 0.24710338680926916\n",
      "Precision: 0.7487341059975244\n",
      "Roc-auc: 0.6024939992834373\n"
     ]
    },
    {
     "data": {
      "image/png": "[encoded data removed]",
      "text/plain": [
       "<Figure size 720x720 with 2 Axes>"
      ]
     },
     "metadata": {
      "needs_background": "light"
     },
     "output_type": "display_data"
    }
   ],
   "source": [
    "metrics(my_pred, y_test)\n",
    "plot_confusion_matrix(y_test, my_pred, \"knn\")"
   ]
  },
  {
   "cell_type": "markdown",
   "metadata": {},
   "source": [
    "### Naive Bayes"
   ]
  },
  {
   "cell_type": "code",
   "execution_count": 224,
   "metadata": {},
   "outputs": [
    {
     "name": "stdout",
     "output_type": "stream",
     "text": [
      "Лучшие гиперпараметры модели: {}\n",
      "Лучший счёт модели: 0.7084001932967563\n"
     ]
    }
   ],
   "source": [
    "model = GridSearchCV(Pipeline([(\"Scaler\", scaler), (\"NaiveBayes\", NaiveBayes())]), {})\n",
    "model.fit(x_train_balanced, y_train_balanced)\n",
    "my_pred = model.best_estimator_.predict(x_test)\n",
    "print(\"Лучшие гиперпараметры модели:\", model.best_params_)\n",
    "print(\"Лучший счёт модели:\", model.best_score_)"
   ]
  },
  {
   "cell_type": "code",
   "execution_count": 225,
   "metadata": {},
   "outputs": [],
   "source": [
    "with open('NaiveBayes.pickle', 'wb') as f:\n",
    "    pickle.dump(model, f)"
   ]
  },
  {
   "cell_type": "code",
   "execution_count": 226,
   "metadata": {},
   "outputs": [
    {
     "name": "stdout",
     "output_type": "stream",
     "text": [
      "Accuracy: 0.7755319015872619\n",
      "Recall: 0.2726497013501983\n",
      "Precision: 0.6112298863508495\n",
      "Roc-auc: 0.6075456549932279\n"
     ]
    },
    {
     "data": {
      "image/png": "[encoded data removed]",
      "text/plain": [
       "<Figure size 720x720 with 2 Axes>"
      ]
     },
     "metadata": {
      "needs_background": "light"
     },
     "output_type": "display_data"
    }
   ],
   "source": [
    "metrics(my_pred, y_test)\n",
    "plot_confusion_matrix(y_test, my_pred, \"naive_bayes\")"
   ]
  },
  {
   "cell_type": "code",
   "execution_count": null,
   "metadata": {},
   "outputs": [],
   "source": []
  }
 ],
 "metadata": {
  "kernelspec": {
   "display_name": "Python 3.10.5 64-bit",
   "language": "python",
   "name": "python3"
  },
  "language_info": {
   "codemirror_mode": {
    "name": "ipython",
    "version": 3
   },
   "file_extension": ".py",
   "mimetype": "text/x-python",
   "name": "python",
   "nbconvert_exporter": "python",
   "pygments_lexer": "ipython3",
   "version": "3.10.5"
  },
  "orig_nbformat": 4,
  "vscode": {
   "interpreter": {
    "hash": "865d8b2eb28e274047ba64063dfb6a2aabf0dfec4905d304d7a76618dae6fdd4"
   }
  }
 },
 "nbformat": 4,
 "nbformat_minor": 2
}
